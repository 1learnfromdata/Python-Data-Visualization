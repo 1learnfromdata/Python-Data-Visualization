{
 "cells": [
  {
   "cell_type": "code",
   "execution_count": null,
   "metadata": {},
   "outputs": [],
   "source": [
    "import pandas as pd\n",
    "from datetime import datetime\n",
    "import plotly.express as px\n",
    "import time\n",
    "import chart_studio.plotly as py"
   ]
  },
  {
   "cell_type": "code",
   "execution_count": null,
   "metadata": {},
   "outputs": [],
   "source": [
    "%matplotlib inline\n",
    "import numpy as np\n",
    "import matplotlib.pyplot as plt\n",
    "import matplotlib.patches as patches\n",
    "import matplotlib.path as path\n",
    "import matplotlib.ticker as ticker\n",
    "import matplotlib.animation as animation\n",
    "from IPython.display import HTML\n",
    "from matplotlib import cm\n",
    "import IPython.display as display\n",
    "from mpl_toolkits.axes_grid1 import make_axes_locatable"
   ]
  },
  {
   "cell_type": "code",
   "execution_count": null,
   "metadata": {},
   "outputs": [],
   "source": [
    "title_basic = pd.read_csv('title.basics.tsv', sep='\\t')\n",
    "title_episode = pd.read_csv('title.episode.tsv', sep='\\t')\n",
    "title_ratings = pd.read_csv('title.ratings.tsv', sep='\\t')"
   ]
  },
  {
   "cell_type": "code",
   "execution_count": null,
   "metadata": {
    "scrolled": true
   },
   "outputs": [],
   "source": [
    "title_basic_modified = title_basic\n",
    "basic_ratings_df = pd.merge(title_basic_modified,\n",
    "                            title_ratings, \n",
    "                            on='tconst',\n",
    "                            how='inner')\n",
    "\n",
    "title_overall_df = pd.merge(basic_ratings_df,\n",
    "                            title_episode,\n",
    "                            on='tconst',\n",
    "                            how='left')\n",
    "\n",
    "print(title_overall_df)"
   ]
  },
  {
   "cell_type": "code",
   "execution_count": null,
   "metadata": {},
   "outputs": [],
   "source": [
    "final_df_with_top10 = pd.DataFrame()\n",
    "for i in range(1990,2021):\n",
    "    df_with_top30 = title_overall_df[(title_overall_df['startYear'] == str(i))]\\\n",
    "        .groupby(['parentTconst', 'startYear'])\\\n",
    "        .agg({'averageRating': 'mean',\n",
    "                  'numVotes':'mean',\n",
    "                  'startYear':'count'})\\\n",
    "        .sort_values(by=['numVotes','averageRating'],\n",
    "                     ascending=False).head(30)\n",
    "    \n",
    "    df_with_top10 = df_with_top30.sort_values(by='averageRating',\n",
    "                                              ascending=False).head(10)\n",
    "    df_with_top10.rename(columns={'startYear': 'SeasonEpisodeCount'},inplace=True)\n",
    "    df_with_top10.reset_index(inplace=True)    \n",
    "    def name_of_series(x):\n",
    "        return list(title_overall_df[title_overall_df['tconst'] == x]['primaryTitle'])[0]\n",
    "        \n",
    "    df_with_top10['name_of_series'] = df_with_top10['parentTconst']\\\n",
    "        .map(lambda x: name_of_series(x))\n",
    "    \n",
    "    final_df_with_top10 = final_df_with_top10.append(df_with_top10, ignore_index=True)\n",
    "            \n",
    "print(final_df_with_top10)"
   ]
  },
  {
   "cell_type": "code",
   "execution_count": null,
   "metadata": {},
   "outputs": [],
   "source": [
    "final_df_with_top10.rename(columns={'startYear': 'Year', 'numVotes': 'Votes'}, inplace=True)"
   ]
  },
  {
   "cell_type": "code",
   "execution_count": null,
   "metadata": {},
   "outputs": [],
   "source": [
    "final_df_with_top1990 = final_df_with_top10[final_df_with_top10['Year'] == '1995']"
   ]
  },
  {
   "cell_type": "code",
   "execution_count": null,
   "metadata": {},
   "outputs": [],
   "source": [
    "fig, ax = plt.subplots(figsize=(15, 8))\n",
    "list_of_votes = list(final_df_with_top1990['Votes'])\n",
    "max_vote = max(list_of_votes)\n",
    "div = make_axes_locatable(ax)\n",
    "cax = div.append_axes('right', '5%', '5%')\n",
    "plot = plt.scatter(list_of_votes, list_of_votes, c = list_of_votes, cmap = 'Pastel1')\n",
    "cbar = plt.colorbar(plot,cax=cax)\n",
    "cbar.ax.get_yaxis().labelpad = 15\n",
    "cbar.ax.text(-0.6, 1.02,'Average Votes', transform=cbar.ax.transAxes, weight=7, size=12)\n",
    "\n",
    "def draw_barchart(year):\n",
    "    dff = final_df_with_top10[final_df_with_top10['Year'].eq(str(year))].sort_values(by='averageRating', ascending=True).tail(10)\n",
    "    list_of_votes = list(dff['Votes'])\n",
    "    max_vote = max(list_of_votes)\n",
    "    ax.clear()\n",
    "    ax.barh(dff['name_of_series'], \n",
    "            dff['averageRating'], \n",
    "            color=cm.Pastel1( [i/ max_vote for i in list_of_votes] ))\n",
    "    \n",
    "\n",
    "    for i, (value, name) in enumerate(zip(dff['averageRating'], dff['name_of_series'])):\n",
    "        ax.text(value + -0.05, i,     name,           size=14, weight=600, ha='right', va='center')\n",
    "        ax.text(value + 0.05, i,     f'{round(value,2)}',  size=14, ha='left',  va='center')\n",
    "\n",
    "    ax.text(1, 0.2, year, transform=ax.transAxes, color='#777777', size=46, ha='right', weight=800)\n",
    "    ax.text(0, 1.06, 'IMDB Average Ratings', transform=ax.transAxes, size=15,weight=600, color='#777777')\n",
    "    ax.xaxis.set_major_formatter(ticker.StrMethodFormatter('{x:,.0f}'))\n",
    "    ax.xaxis.set_ticks_position('top')\n",
    "    ax.set_xlim([0,13])\n",
    "    ax.tick_params(axis='x', colors='black', labelsize=12)\n",
    "    ax.set_yticks([])\n",
    "    ax.margins(0, 0.01)\n",
    "\n",
    "    ax.set_axisbelow(True)\n",
    "    ax.text(0.1, 1.1, 'IMDB Rating of Top 10 Famous Series from 1991 to 2020',\n",
    "            transform=ax.transAxes, size=25, weight=800, ha='left')\n",
    "    ax.text(0, -0.05, 'Source : https://datasets.imdbws.com/', transform=ax.transAxes, size=15,weight=600, color='#777777')\n",
    "    ax.spines['right'].set_visible(False)\n",
    "    ax.spines['bottom'].set_visible(False)\n",
    "    plt.box(False)\n",
    "    \n",
    "    \n",
    "draw_barchart(2010)"
   ]
  },
  {
   "cell_type": "code",
   "execution_count": null,
   "metadata": {},
   "outputs": [],
   "source": [
    "\n",
    "from IPython.display import HTML\n",
    "fig, ax = plt.subplots(figsize=(15, 8),dpi=300)\n",
    "list_of_votes = list(final_df_with_top1990['Votes'])\n",
    "max_vote = max(list_of_votes)\n",
    "div = make_axes_locatable(ax)\n",
    "cax = div.append_axes('right', '5%', '5%')\n",
    "plot = plt.scatter(list_of_votes, list_of_votes, c = list_of_votes, cmap = 'Pastel1')\n",
    "cbar = plt.colorbar(plot,cax=cax)\n",
    "cbar.ax.get_yaxis().labelpad = 15\n",
    "cbar.ax.text(-0.6, 1.02,'Average Votes', transform=cbar.ax.transAxes, weight=7, size=12)\n",
    "animator = animation.FuncAnimation(fig, draw_barchart, frames=range(1991, 2021), interval=3000, repeat=True)\n",
    "HTML(animator.to_html5_video()) \n",
    "HTML(animator.to_jshtml()) "
   ]
  },
  {
   "cell_type": "code",
   "execution_count": null,
   "metadata": {},
   "outputs": [],
   "source": [
    "Writer = animation.writers['ffmpeg']\n",
    "writer = Writer(fps=1, bitrate=64000, codec='mpeg4')\n",
    "animator.save('1991To2020.mp4', writer=writer)"
   ]
  },
  {
   "cell_type": "code",
   "execution_count": null,
   "metadata": {},
   "outputs": [],
   "source": []
  },
  {
   "cell_type": "code",
   "execution_count": null,
   "metadata": {},
   "outputs": [],
   "source": []
  }
 ],
 "metadata": {
  "kernelspec": {
   "display_name": "Python 3",
   "language": "python",
   "name": "python3"
  },
  "language_info": {
   "codemirror_mode": {
    "name": "ipython",
    "version": 3
   },
   "file_extension": ".py",
   "mimetype": "text/x-python",
   "name": "python",
   "nbconvert_exporter": "python",
   "pygments_lexer": "ipython3",
   "version": "3.6.9"
  }
 },
 "nbformat": 4,
 "nbformat_minor": 2
}
